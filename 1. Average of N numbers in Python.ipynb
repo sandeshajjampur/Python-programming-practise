{
 "cells": [
  {
   "cell_type": "markdown",
   "metadata": {},
   "source": [
    "# PYTHON PROGRAMMING PRACTISE"
   ]
  },
  {
   "cell_type": "code",
   "execution_count": 17,
   "metadata": {},
   "outputs": [
    {
     "name": "stdout",
     "output_type": "stream",
     "text": [
      "How many numbers: 6\n",
      "enter the number: 1\n",
      "enter the number: 2\n",
      "enter the number: 3\n",
      "enter the number: 5\n",
      "enter the number: 3\n",
      "enter the number: 3\n",
      "the average of numbers is:  2.8333333333333335\n"
     ]
    }
   ],
   "source": [
    "#To find Average of N numbers in Python\n",
    "a = int(input(\"How many numbers: \"))\n",
    "total=0\n",
    "\n",
    "for b in range(0,a):\n",
    "    b = int(input(\"enter the number: \"))\n",
    "    total= total + b\n",
    "\n",
    "avg = float(total/a)\n",
    "print(\"the average of numbers is: \", avg)"
   ]
  },
  {
   "cell_type": "code",
   "execution_count": null,
   "metadata": {},
   "outputs": [],
   "source": []
  }
 ],
 "metadata": {
  "kernelspec": {
   "display_name": "Python 3",
   "language": "python",
   "name": "python3"
  },
  "language_info": {
   "codemirror_mode": {
    "name": "ipython",
    "version": 3
   },
   "file_extension": ".py",
   "mimetype": "text/x-python",
   "name": "python",
   "nbconvert_exporter": "python",
   "pygments_lexer": "ipython3",
   "version": "3.7.6"
  }
 },
 "nbformat": 4,
 "nbformat_minor": 4
}
