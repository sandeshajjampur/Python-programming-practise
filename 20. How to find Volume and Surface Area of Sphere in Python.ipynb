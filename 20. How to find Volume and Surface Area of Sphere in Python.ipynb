{
 "cells": [
  {
   "cell_type": "markdown",
   "metadata": {},
   "source": [
    "# PYTHON PROGRAMMING PRACTISE"
   ]
  },
  {
   "cell_type": "code",
   "execution_count": 6,
   "metadata": {},
   "outputs": [
    {
     "name": "stdout",
     "output_type": "stream",
     "text": [
      "The volume of the sphere is :  904.3199999999999\n",
      "The surface area of the sphere is:  452\n"
     ]
    }
   ],
   "source": [
    "#How to find Volume and Surface Area of Sphere in Python\n",
    "\n",
    "pi = 3.14\n",
    "r = 6\n",
    "V = float(4/3* pi * r**3)\n",
    "A = int(4* pi * r**2)\n",
    "\n",
    "print(\"The volume of the sphere is : \", V)\n",
    "print(\"The surface area of the sphere is: \", A)"
   ]
  },
  {
   "cell_type": "code",
   "execution_count": null,
   "metadata": {},
   "outputs": [],
   "source": []
  }
 ],
 "metadata": {
  "kernelspec": {
   "display_name": "Python 3",
   "language": "python",
   "name": "python3"
  },
  "language_info": {
   "codemirror_mode": {
    "name": "ipython",
    "version": 3
   },
   "file_extension": ".py",
   "mimetype": "text/x-python",
   "name": "python",
   "nbconvert_exporter": "python",
   "pygments_lexer": "ipython3",
   "version": "3.7.6"
  }
 },
 "nbformat": 4,
 "nbformat_minor": 4
}
