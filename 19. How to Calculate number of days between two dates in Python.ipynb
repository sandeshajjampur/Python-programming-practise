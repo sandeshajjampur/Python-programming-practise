{
 "cells": [
  {
   "cell_type": "markdown",
   "metadata": {},
   "source": [
    "# PYTHON PROGRAMMING PRACTISE"
   ]
  },
  {
   "cell_type": "code",
   "execution_count": 3,
   "metadata": {},
   "outputs": [
    {
     "name": "stdout",
     "output_type": "stream",
     "text": [
      "-227\n"
     ]
    }
   ],
   "source": [
    "#How to Calculate number of days between two dates in Python\n",
    "\n",
    "from datetime import date\n",
    "\n",
    "firstDate = date(2020, 6, 1)\n",
    "secondDate = date(2021, 1, 14)\n",
    "\n",
    "delta = firstDate - secondDate\n",
    "print(delta.days)"
   ]
  },
  {
   "cell_type": "code",
   "execution_count": 4,
   "metadata": {},
   "outputs": [
    {
     "name": "stdout",
     "output_type": "stream",
     "text": [
      "13\n"
     ]
    }
   ],
   "source": [
    "from datetime import date\n",
    "\n",
    "firstDate = date(2021, 1, 14)\n",
    "secondDate = date(2021, 1, 1)\n",
    "\n",
    "delta = firstDate - secondDate\n",
    "print(delta.days)"
   ]
  },
  {
   "cell_type": "code",
   "execution_count": null,
   "metadata": {},
   "outputs": [],
   "source": []
  }
 ],
 "metadata": {
  "kernelspec": {
   "display_name": "Python 3",
   "language": "python",
   "name": "python3"
  },
  "language_info": {
   "codemirror_mode": {
    "name": "ipython",
    "version": 3
   },
   "file_extension": ".py",
   "mimetype": "text/x-python",
   "name": "python",
   "nbconvert_exporter": "python",
   "pygments_lexer": "ipython3",
   "version": "3.7.6"
  }
 },
 "nbformat": 4,
 "nbformat_minor": 4
}
