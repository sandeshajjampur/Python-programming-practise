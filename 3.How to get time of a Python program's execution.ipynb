{
 "cells": [
  {
   "cell_type": "markdown",
   "metadata": {},
   "source": [
    "# PYTHON PROGRAMMING PRACTISE"
   ]
  },
  {
   "cell_type": "code",
   "execution_count": null,
   "metadata": {},
   "outputs": [],
   "source": [
    "#To find How to get time of a Python program's execution\n",
    "\n",
    "import time\n",
    "def myFunc ():\n",
    "    start_time = time.time()\n",
    "    s=0\n",
    "    for i in range(1, n+1):\n",
    "        s = s+i\n",
    "    \n",
    "    end_time = time.time()\n",
    "    return s, end_time - start_time\n",
    "n = 5034343442424\n",
    "print(myFunc ())"
   ]
  },
  {
   "cell_type": "code",
   "execution_count": null,
   "metadata": {},
   "outputs": [],
   "source": []
  }
 ],
 "metadata": {
  "kernelspec": {
   "display_name": "Python 3",
   "language": "python",
   "name": "python3"
  },
  "language_info": {
   "codemirror_mode": {
    "name": "ipython",
    "version": 3
   },
   "file_extension": ".py",
   "mimetype": "text/x-python",
   "name": "python",
   "nbconvert_exporter": "python",
   "pygments_lexer": "ipython3",
   "version": "3.7.6"
  }
 },
 "nbformat": 4,
 "nbformat_minor": 4
}
