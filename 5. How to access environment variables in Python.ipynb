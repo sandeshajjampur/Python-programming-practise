{
 "cells": [
  {
   "cell_type": "markdown",
   "metadata": {},
   "source": [
    "# PYTHON PROGRAMMING PRACTISE"
   ]
  },
  {
   "cell_type": "code",
   "execution_count": 2,
   "metadata": {},
   "outputs": [
    {
     "name": "stdout",
     "output_type": "stream",
     "text": [
      "C:\\Users\\a\\anaconda3;C:\\Users\\a\\anaconda3\\Library\\mingw-w64\\bin;C:\\Users\\a\\anaconda3\\Library\\usr\\bin;C:\\Users\\a\\anaconda3\\Library\\bin;C:\\Users\\a\\anaconda3\\Scripts;C:\\Program Files (x86)\\Common Files\\Oracle\\Java\\javapath;C:\\WINDOWS\\system32;C:\\WINDOWS;C:\\WINDOWS\\System32\\Wbem;C:\\WINDOWS\\System32\\WindowsPowerShell\\v1.0\\;C:\\WINDOWS\\System32\\OpenSSH\\;C:\\Users\\a\\AppData\\Local\\Programs\\Python\\Python39\\Scripts\\;C:\\Users\\a\\AppData\\Local\\Programs\\Python\\Python39\\;C:\\Program Files (x86)\\Graphviz2.38\\bin;C:\\Users\\a\\AppData\\Local\\Microsoft\\WindowsApps;\n"
     ]
    }
   ],
   "source": [
    "#How to access environment variables in Python\n",
    "import os\n",
    "print(os.environ['PATH'])"
   ]
  },
  {
   "cell_type": "code",
   "execution_count": null,
   "metadata": {},
   "outputs": [],
   "source": []
  }
 ],
 "metadata": {
  "kernelspec": {
   "display_name": "Python 3",
   "language": "python",
   "name": "python3"
  },
  "language_info": {
   "codemirror_mode": {
    "name": "ipython",
    "version": 3
   },
   "file_extension": ".py",
   "mimetype": "text/x-python",
   "name": "python",
   "nbconvert_exporter": "python",
   "pygments_lexer": "ipython3",
   "version": "3.7.6"
  }
 },
 "nbformat": 4,
 "nbformat_minor": 4
}
